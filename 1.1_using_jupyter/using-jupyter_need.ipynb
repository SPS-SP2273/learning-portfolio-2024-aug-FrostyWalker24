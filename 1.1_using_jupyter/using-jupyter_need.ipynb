{
 "cells": [
  {
   "cell_type": "markdown",
   "id": "9ad78afd-ec06-48fb-aacf-00aad024ff81",
   "metadata": {},
   "source": [
    "# 1 Quadratic Equations\n",
    "## Introduction\n",
    "![](https://upload.wikimedia.org/wikipedia/commons/thumb/f/f8/Polynomialdeg2.svg/300px-Polynomialdeg2.svg.png)<br>\n",
    "(*Image from the [Wikipedia page on Quadratic equations](https://en.wikipedia.org/wiki/Quadratic_equation)*)<br>\n",
    "The general form of a quadratic equation is:<br>\n",
    "$$\n",
    "ax^2 + bx + c = 0\n",
    "$$\n",
    "## Solutions\n",
    "Provided $a \\ne 0$, we can use an elementary algebraic method called [completing the square](https://en.wikipedia.org/wiki/Completing_the_square) to show that a quadratic equation has the following solution:\n",
    "$$\n",
    "x = \\dfrac{-b \\pm \\sqrt{b^2-4ac}}{2a}\n",
    "$$\n",
    "## Discriminant\n",
    "The quantity $\\Delta = b^2-4ac$ is called the **discriminant** of the equation and decides the nature of its solutions. The table below shows the various possibilities.<br>\n",
    "| **Discriminant** | **Roots** |\n",
    "|:------------------:|:-----------|\n",
    "| $\\Delta = b^2 - 4ac = 0$               |A single solution of $-b/(2a)$           |\n",
    "| $\\Delta = b^2 - 4ac > 0$                 |  Two distinct solutions         |\n",
    "| $\\Delta = b^2 - 4ac < 0$                 |  No real solutions; both are complex.         |"
   ]
  },
  {
   "cell_type": "code",
   "execution_count": null,
   "id": "7a26e185-55ed-4d9b-b0bf-1c0a1838eb4e",
   "metadata": {},
   "outputs": [],
   "source": []
  },
  {
   "cell_type": "markdown",
   "id": "3cfb2d31-372d-46b4-b216-0caaa3a8e811",
   "metadata": {},
   "source": [
    "\\begin{align}\n",
    "\\mu &= \\dfrac{1}{n} \\sum_{i=1}^{n} x_i  \\\\\n",
    "\\sigma &= \\sqrt{\\dfrac{1}{n} \\sum_{i=1}^{n}(x_i - \\mu)^2} \\\\\n",
    "r &= \\dfrac{\\sum_{i=1}^{n}(x_i-\\mu_X)(y_i - \\mu_Y)}{\\sqrt{\\sum_{i=1}^{n}(x_i-\\mu_X)\\sum_{i=1}^{n}(y_i-\\mu_Y)^2}}\n",
    "\\end{align}"
   ]
  },
  {
   "cell_type": "code",
   "execution_count": null,
   "id": "62e57bff-a707-40c7-a239-f369e31da0f7",
   "metadata": {},
   "outputs": [],
   "source": []
  }
 ],
 "metadata": {
  "kernelspec": {
   "display_name": "Python 3 (ipykernel)",
   "language": "python",
   "name": "python3"
  },
  "language_info": {
   "codemirror_mode": {
    "name": "ipython",
    "version": 3
   },
   "file_extension": ".py",
   "mimetype": "text/x-python",
   "name": "python",
   "nbconvert_exporter": "python",
   "pygments_lexer": "ipython3",
   "version": "3.12.3"
  }
 },
 "nbformat": 4,
 "nbformat_minor": 5
}
