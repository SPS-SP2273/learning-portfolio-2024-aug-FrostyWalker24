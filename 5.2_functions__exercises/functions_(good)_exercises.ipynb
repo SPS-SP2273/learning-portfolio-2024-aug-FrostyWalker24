{
 "cells": [
  {
   "attachments": {},
   "cell_type": "markdown",
   "id": "123456",
   "metadata": {},
   "source": [
    "<div style=\"text-align:left;font-size:2em\"><span style=\"font-weight:bolder;font-size:1.25em\">SP2273 | Learning Portfolio</span><br><br><span style=\"font-weight:bold;color:darkred\">Functions (Good) Exercises</span></div>"
   ]
  },
  {
   "cell_type": "markdown",
   "id": "e5ce2018-7d1c-4cad-bf11-b3e46d9f1c93",
   "metadata": {},
   "source": [
    "# Exercise 1"
   ]
  },
  {
   "cell_type": "code",
   "execution_count": 14,
   "id": "d3112c03-5be7-4974-98fc-60074fe7b63d",
   "metadata": {},
   "outputs": [
    {
     "name": "stdout",
     "output_type": "stream",
     "text": [
      "32.0\n",
      "212.0\n",
      "273\n",
      "373\n",
      "Please input a number.\n",
      "Please input a number.\n",
      "Please set the target scale to Fahrenheit/Kelvin.\n"
     ]
    }
   ],
   "source": [
    "def convert_celsius(temperature_celsius, target_scale=\"Fahrenheit\"):\n",
    "    try:\n",
    "        if target_scale == \"Fahrenheit\":\n",
    "            return temperature_celsius*(9/5) + 32\n",
    "        elif target_scale == \"Kelvin\":\n",
    "            return temperature_celsius + 273\n",
    "        return \"Please set the target scale to Fahrenheit/Kelvin.\"\n",
    "    except:\n",
    "        return \"Please input a number.\"\n",
    "\n",
    "print(convert_celsius(0))\n",
    "print(convert_celsius(100))\n",
    "print(convert_celsius(0, \"Kelvin\"))\n",
    "print(convert_celsius(100, \"Kelvin\"))\n",
    "print(convert_celsius(\"Haha\"))\n",
    "print(convert_celsius([1,2,3]))\n",
    "print(convert_celsius(100, \"Reamur\"))"
   ]
  },
  {
   "cell_type": "markdown",
   "id": "0f10fb57-a407-4db5-89fc-ecdbb97c4537",
   "metadata": {},
   "source": [
    "# Exercise 2"
   ]
  },
  {
   "cell_type": "code",
   "execution_count": 16,
   "id": "580d3c25-ef1d-4025-894f-5e5315144c23",
   "metadata": {},
   "outputs": [
    {
     "name": "stdout",
     "output_type": "stream",
     "text": [
      "0.0\n",
      "100.0\n",
      "273.0\n",
      "373.0\n",
      "Please input a number.\n",
      "Please input a number.\n",
      "Please set the target scale to Celsius/Kelvin.\n"
     ]
    }
   ],
   "source": [
    "def convert_fahrenheit(temperature_fahrenheit, target_scale=\"Celsius\"):\n",
    "    try:\n",
    "        if target_scale == \"Celsius\":\n",
    "            return (temperature_fahrenheit - 32)*(5/9)\n",
    "        elif target_scale == \"Kelvin\":\n",
    "            return (temperature_fahrenheit - 32)*(5/9) + 273\n",
    "        return \"Please set the target scale to Celsius/Kelvin.\"\n",
    "    except:\n",
    "        return \"Please input a number.\"\n",
    "\n",
    "print(convert_fahrenheit(32))\n",
    "print(convert_fahrenheit(212))\n",
    "print(convert_fahrenheit(32, \"Kelvin\"))\n",
    "print(convert_fahrenheit(212, \"Kelvin\"))\n",
    "print(convert_fahrenheit(\"Haha\"))\n",
    "print(convert_fahrenheit([1,2,3]))\n",
    "print(convert_fahrenheit(212, \"Reamur\"))"
   ]
  },
  {
   "cell_type": "markdown",
   "id": "bca0a698-a44f-4659-ba66-bb04589fdd51",
   "metadata": {},
   "source": [
    "# Exercise 3"
   ]
  },
  {
   "cell_type": "code",
   "execution_count": 21,
   "id": "afdca10e-315d-4379-ae64-149aeeac245b",
   "metadata": {},
   "outputs": [
    {
     "data": {
      "text/plain": [
       "32.0"
      ]
     },
     "execution_count": 21,
     "metadata": {},
     "output_type": "execute_result"
    }
   ],
   "source": [
    "def convert_temperature(temperature, source_scale, target_scale):\n",
    "    if source_scale == \"Celsius\" and target_scale != \"Celsius\":\n",
    "        return convert_celsius(temperature, target_scale)\n",
    "    elif source_scale == \"Fahrenheit\" and target_scale != \"Fahrenheit\":\n",
    "        return convert_celsius(temperature, target_scale)\n",
    "    elif source_scale == \"Kelvin\" and target_scale != \"Kelvin\":\n",
    "        return convert_kelvin(temperature, target_scale)\n",
    "    else:\n",
    "        return \"Make sure the source and target scales are not the same.\"\n",
    "\n",
    "# make the convert_kelvin function\n",
    "# what if they put diff stuff? try except\n",
    "convert_temperature(0, \"Celsius\", \"Fahrenheit\")       \n",
    "    "
   ]
  }
 ],
 "metadata": {
  "kernelspec": {
   "display_name": "Python 3 (ipykernel)",
   "language": "python",
   "name": "python3"
  },
  "language_info": {
   "codemirror_mode": {
    "name": "ipython",
    "version": 3
   },
   "file_extension": ".py",
   "mimetype": "text/x-python",
   "name": "python",
   "nbconvert_exporter": "python",
   "pygments_lexer": "ipython3",
   "version": "3.12.3"
  },
  "toc": {
   "base_numbering": 1,
   "nav_menu": {},
   "number_sections": true,
   "sideBar": true,
   "skip_h1_title": false,
   "title_cell": "Table of Contents",
   "title_sidebar": "Contents",
   "toc_cell": false,
   "toc_position": {},
   "toc_section_display": true,
   "toc_window_display": false
  },
  "vscode": {
   "interpreter": {
    "hash": "31f2aee4e71d21fbe5cf8b01ff0e069b9275f58929596ceb00d14d90e3e16cd6"
   }
  }
 },
 "nbformat": 4,
 "nbformat_minor": 5
}
