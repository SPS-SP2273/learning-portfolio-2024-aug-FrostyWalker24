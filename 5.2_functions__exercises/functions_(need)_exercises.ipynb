{
 "cells": [
  {
   "attachments": {},
   "cell_type": "markdown",
   "id": "123456",
   "metadata": {},
   "source": [
    "<div style=\"text-align:left;font-size:2em\"><span style=\"font-weight:bolder;font-size:1.25em\">SP2273 | Learning Portfolio</span><br><br><span style=\"font-weight:bold;color:darkred\">Functions (Need) Exercises</span></div>"
   ]
  },
  {
   "cell_type": "markdown",
   "id": "bbef9653-a0c9-4650-a141-8b49916de864",
   "metadata": {},
   "source": [
    "# Exercise 1"
   ]
  },
  {
   "cell_type": "code",
   "execution_count": 9,
   "id": "baaf2b7d-dceb-4203-9087-905b45e248af",
   "metadata": {},
   "outputs": [
    {
     "name": "stdout",
     "output_type": "stream",
     "text": [
      "Hello Batman! So, nice to meet you!\n",
      "Hello Calvin!\n"
     ]
    }
   ],
   "source": [
    "def greeting(name):\n",
    "    if name == \"Batman\":\n",
    "        return \"Hello Batman! So, nice to meet you!\"\n",
    "    return f\"Hello {name}!\"\n",
    "\n",
    "print(greeting(\"Batman\"))\n",
    "print(greeting(\"Calvin\"))"
   ]
  },
  {
   "cell_type": "markdown",
   "id": "48fbccda-7ad3-4e5e-8465-151b27ea38c1",
   "metadata": {},
   "source": [
    "If the name is \"Batman\", the if block is executed and the first return statement is executed. If the name is not \"Batman\", the if block is not executed, thus the second return is executed. So, it is somewhat an implicit else statement, because if the if block does not run, the second return will always be executed."
   ]
  },
  {
   "cell_type": "markdown",
   "id": "2863775f-72ae-4e81-98af-03e792d30fe2",
   "metadata": {},
   "source": [
    "# Exercise 2"
   ]
  },
  {
   "cell_type": "code",
   "execution_count": 43,
   "id": "6d563d39-37a6-4cac-9719-2d72dce9e487",
   "metadata": {},
   "outputs": [
    {
     "name": "stdout",
     "output_type": "stream",
     "text": [
      "Normal weight\n",
      "Please input weight and height as numbers.\n"
     ]
    }
   ],
   "source": [
    "def calculate_bmi(weight, height):\n",
    "    try:\n",
    "        BMI = weight / (height**2)\n",
    "        if 0 < BMI < 18.5:\n",
    "            return \"Underweight\"\n",
    "        elif 18.5 <= BMI <= 24.9:\n",
    "            return \"Normal weight\"\n",
    "        elif 25 <= BMI <= 29.9:\n",
    "            return \"Overweight\"\n",
    "        elif BMI >= 30:\n",
    "            return \"Obese\"\n",
    "        return \"Invalid input\"\n",
    "\n",
    "    except:\n",
    "        return \"Please input weight and height as numbers.\"\n",
    "\n",
    "print(calculate_bmi(70, 1.7))    # my actual BMI\n",
    "print(calculate_bmi(\"abc\", 1.7))"
   ]
  },
  {
   "cell_type": "markdown",
   "id": "24d6494b-aa69-4066-b127-e034883d909d",
   "metadata": {},
   "source": [
    "# Exercise 3"
   ]
  },
  {
   "cell_type": "code",
   "execution_count": 40,
   "id": "4b7117f6-79fa-4cb8-9bae-a71d82b57d80",
   "metadata": {},
   "outputs": [
    {
     "name": "stdout",
     "output_type": "stream",
     "text": [
      "1\n",
      "120\n",
      "Factorials of negative numbers are undefined.\n",
      "Factorials of negative numbers are undefined.\n",
      "Cannot find the factorial of Hi, please input a number.\n",
      "Cannot find the factorial of [1, 2, 3], please input a number.\n"
     ]
    }
   ],
   "source": [
    "def factorial(integer):\n",
    "    try:\n",
    "        integer = int(integer)\n",
    "    \n",
    "        if integer < 0:\n",
    "            return \"Factorials of negative numbers are undefined.\"\n",
    "        elif integer == 0:\n",
    "            return 1\n",
    "        elif integer >= 1:\n",
    "            factorial = 1\n",
    "            for count in range(1, integer+1):\n",
    "                factorial *= count\n",
    "            return factorial\n",
    "\n",
    "    except:\n",
    "        return f\"Cannot find the factorial of {integer}, please input a number.\"\n",
    "\n",
    "# test cases\n",
    "print(factorial(1))\n",
    "print(factorial(5.5))\n",
    "print(factorial(-1))\n",
    "print(factorial(-2.5))\n",
    "print(factorial(\"Hi\"))\n",
    "print(factorial([1,2,3]))"
   ]
  }
 ],
 "metadata": {
  "kernelspec": {
   "display_name": "Python 3 (ipykernel)",
   "language": "python",
   "name": "python3"
  },
  "language_info": {
   "codemirror_mode": {
    "name": "ipython",
    "version": 3
   },
   "file_extension": ".py",
   "mimetype": "text/x-python",
   "name": "python",
   "nbconvert_exporter": "python",
   "pygments_lexer": "ipython3",
   "version": "3.12.3"
  },
  "toc": {
   "base_numbering": 1,
   "nav_menu": {},
   "number_sections": true,
   "sideBar": true,
   "skip_h1_title": false,
   "title_cell": "Table of Contents",
   "title_sidebar": "Contents",
   "toc_cell": false,
   "toc_position": {},
   "toc_section_display": true,
   "toc_window_display": false
  },
  "vscode": {
   "interpreter": {
    "hash": "31f2aee4e71d21fbe5cf8b01ff0e069b9275f58929596ceb00d14d90e3e16cd6"
   }
  }
 },
 "nbformat": 4,
 "nbformat_minor": 5
}
