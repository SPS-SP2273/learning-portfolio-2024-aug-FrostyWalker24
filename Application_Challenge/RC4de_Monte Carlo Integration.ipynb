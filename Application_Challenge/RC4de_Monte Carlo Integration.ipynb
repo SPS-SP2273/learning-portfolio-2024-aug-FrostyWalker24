{
 "cells": [
  {
   "cell_type": "markdown",
   "id": "1ab19a9d-c4a2-4003-b91b-b5e7fced93e1",
   "metadata": {},
   "source": [
    "# With visualisation"
   ]
  },
  {
   "cell_type": "code",
   "execution_count": 46,
   "id": "e68b1ce3-a9ae-4106-ac10-c4c7e0a1fde7",
   "metadata": {},
   "outputs": [
    {
     "name": "stdout",
     "output_type": "stream",
     "text": [
      "14.4 ms ± 382 μs per loop (mean ± std. dev. of 7 runs, 100 loops each)\n"
     ]
    }
   ],
   "source": [
    "%%timeit\n",
    "\n",
    "import numpy as np\n",
    "from matplotlib import pyplot as plt\n",
    "\n",
    "# number of dots for integration or other things\n",
    "n_all = 10000\n",
    "\n",
    "# boundaries of the calculated area\n",
    "x_1, x_2 = 2, 3\n",
    "y_1, y_2 = 0, 6\n",
    "\n",
    "# declare lists for classification of dots\n",
    "x_below, y_below, x_above, y_above = [], [], [], []\n",
    "\n",
    "# make the graph, modify function being calculated here\n",
    "x_axis = np.linspace(1, 3.5, n_all)\n",
    "y_axis = x_axis**2 * (np.sin(2*x_axis))**2\n",
    "\n",
    "# mark the calculated area with random dots\n",
    "x_rand = np.random.uniform(low=x_1, high=x_2, size=n_all)\n",
    "y_rand = np.random.uniform(low=y_1, high=y_2, size=n_all)\n",
    "\n",
    "\n",
    "# compare y values of all dots with y value of the function at that dot's x value\n",
    "for index, x_value in enumerate(x_rand):\n",
    "    y_func = x_value**2 * (np.sin(2*x_value))**2\n",
    "    y_value = y_rand[index]\n",
    "\n",
    "    # classify them into the corresponding lists\n",
    "    if y_value <= y_func:\n",
    "        y_below.append(y_value)\n",
    "        x_below.append(x_value)\n",
    "    else:\n",
    "        y_above.append(y_value)\n",
    "        x_above.append(x_value)\n",
    "\n",
    "# how many dots are below the function\n",
    "n_below = len(y_below)\n",
    "\n",
    "# calculate area\n",
    "area = (n_below/n_all) * ((x_2-x_1) * (y_2-y_1))\n",
    "#print(area)\n",
    "\n",
    "\n",
    "# plot the graph for visualisation\n",
    "#fig, ax = plt.subplots(nrows=1, ncols=1)\n",
    "\n",
    "# the function\n",
    "#ax.plot(x_axis, y_axis)\n",
    "# the random dots, below = blue, above = red\n",
    "#ax.scatter(x_below, y_below, color='blue', s=1)\n",
    "#ax.scatter(x_above, y_above, color='red', s=1)\n",
    "\n",
    "#plt.show()"
   ]
  },
  {
   "cell_type": "markdown",
   "id": "86b6279b-aa12-4b82-822d-0fc378f29d5b",
   "metadata": {},
   "source": [
    "# Without visualisation"
   ]
  },
  {
   "cell_type": "code",
   "execution_count": 63,
   "id": "bd632cdd-7ef1-4bcc-8e22-91965035ce6b",
   "metadata": {},
   "outputs": [
    {
     "name": "stdout",
     "output_type": "stream",
     "text": [
      "4.064883\n"
     ]
    }
   ],
   "source": [
    "from numpy import random as rd\n",
    "from matplotlib import pyplot as plt\n",
    "\n",
    "# number of dots for integration\n",
    "n_all = 10000000\n",
    "\n",
    "# boundaries of the calculated area\n",
    "x_1, x_2 = 2, 3\n",
    "y_1, y_2 = 0, 6\n",
    "\n",
    "# declare list for dots below the function\n",
    "y_below = []\n",
    "\n",
    "# mark the calculated area with random dots\n",
    "x_rand = rd.uniform(low=x_1, high=x_2, size=n_all)\n",
    "y_rand = rd.uniform(low=y_1, high=y_2, size=n_all)\n",
    "\n",
    "# add a '1' every time y_i <= f(x_i), check length for how many dots under the function\n",
    "n_below = sum([1 for index, x in enumerate(x_rand) if y_rand[index] <= (x**2 * (np.sin(2*x))**2)])\n",
    "\n",
    "# calculate area\n",
    "area = (n_below/n_all) * ((x_2-x_1) * (y_2-y_1))\n",
    "print(area)"
   ]
  },
  {
   "cell_type": "markdown",
   "id": "7b1286fa-c16a-4f55-a6bc-64f6517ff43e",
   "metadata": {},
   "source": [
    "# Task 1"
   ]
  },
  {
   "cell_type": "markdown",
   "id": "bfaa3d34-ed9f-4220-a284-c5fe34db2cc5",
   "metadata": {},
   "source": [
    "## Not as a function"
   ]
  },
  {
   "cell_type": "code",
   "execution_count": 4,
   "id": "4c19daf0-9d61-4015-9bd7-388c106dc012",
   "metadata": {},
   "outputs": [
    {
     "name": "stdout",
     "output_type": "stream",
     "text": [
      "4.0651704\n"
     ]
    }
   ],
   "source": [
    "import numpy as np\n",
    "\n",
    "# number of dots for integration\n",
    "n_all = 10000000\n",
    "\n",
    "# boundaries of the calculated area\n",
    "x_1, x_2 = 2, 3\n",
    "y_1, y_2 = 0, 6\n",
    "\n",
    "# mark the calculated area with random dots\n",
    "x_rand = np.random.uniform(low=x_1, high=x_2, size=n_all)\n",
    "y_rand = np.random.uniform(low=y_1, high=y_2, size=n_all)\n",
    "\n",
    "# add a '1' every time y_i <= f(x_i), check length for how many dots under the function\n",
    "n_below = sum([1 for index, x in enumerate(x_rand) if y_rand[index] <= (x**2 * (np.sin(2*x))**2)])\n",
    "\n",
    "# calculate area\n",
    "area = (n_below/n_all) * ((x_2-x_1) * (y_2-y_1))\n",
    "print(area)"
   ]
  },
  {
   "cell_type": "markdown",
   "id": "cc8b50c5-18cd-47d3-b15d-2e7db0e054dc",
   "metadata": {},
   "source": [
    "## As a function"
   ]
  },
  {
   "cell_type": "code",
   "execution_count": 2,
   "id": "8019a5e7-eb11-4e68-a639-245114ce5a24",
   "metadata": {},
   "outputs": [
    {
     "name": "stdout",
     "output_type": "stream",
     "text": [
      "4.050000000000001\n"
     ]
    }
   ],
   "source": [
    "import numpy as np\n",
    "\n",
    "def mcAlg(function, x_range, y_range, n_all=10000000):\n",
    "    '''\n",
    "    Computes the area between a function and y = 0 using Monte Carlo integration.\n",
    "    \n",
    "    Arguments\n",
    "    ---------\n",
    "    function: lambda x: [function]\n",
    "        the function to find the area under\n",
    "        \n",
    "    x_range: [a,b] (a included but b excluded)\n",
    "        the x-value range for area calculation\n",
    "        \n",
    "    y_range: [a,b] (a included but b excluded)\n",
    "        the y-value range for calculation of area\n",
    "        \n",
    "    n_all: int\n",
    "        the number of dots to estimate the area with\n",
    "        the higher the number, the more accurate the result, but the longer the calculation time\n",
    "\n",
    "    Returns\n",
    "    -------\n",
    "    area: float\n",
    "        the area between function and y = 0\n",
    "    '''\n",
    "    \n",
    "    # boundaries of the calculated area\n",
    "    x_1, x_2 = x_range\n",
    "    y_1, y_2 = y_range\n",
    "    \n",
    "    # mark the calculated area with random dots\n",
    "    x_rand = np.random.uniform(low=x_1, high=x_2, size=n_all)\n",
    "    y_rand = np.random.uniform(low=y_1, high=y_2, size=n_all)\n",
    "    \n",
    "    # add a '1' every time y_i <= f(x_i), check length for how many dots under the function\n",
    "    n_below = sum([1 for index, x in enumerate(x_rand) if y_rand[index] <= function(x)])\n",
    "    \n",
    "    # calculate area\n",
    "    area = (n_below/n_all) * ((x_2-x_1) * (y_2-y_1))\n",
    "    return area\n",
    "\n",
    "\n",
    "\n",
    "print(mcAlg(lambda x: x**2 * (np.sin(2*x))**2, [2,3], [0,6], 10000))"
   ]
  },
  {
   "cell_type": "markdown",
   "id": "bf18f1a0-8556-41ae-bd2a-3c08f6c589dd",
   "metadata": {},
   "source": [
    "# Task 2"
   ]
  },
  {
   "cell_type": "markdown",
   "id": "b34158ab-b093-471f-bd81-c723881069ab",
   "metadata": {},
   "source": [
    "## Check estimate"
   ]
  },
  {
   "cell_type": "markdown",
   "id": "85d163d1-c31d-4607-a990-168ce7a0bb5a",
   "metadata": {},
   "source": [
    "With 10 million dots, the estimate is accurate for the first 2 digits after the decimal point."
   ]
  },
  {
   "cell_type": "code",
   "execution_count": 5,
   "id": "aeaf77e3-0fe8-466d-916f-4f75839c9bcc",
   "metadata": {},
   "outputs": [
    {
     "name": "stdout",
     "output_type": "stream",
     "text": [
      "4.064346\n"
     ]
    }
   ],
   "source": [
    "import numpy as np\n",
    "\n",
    "def mcAlg(function, x_range, y_range, n_all=10000000):\n",
    "    '''\n",
    "    Computes the area between a function and y = 0 using Monte Carlo integration.\n",
    "    \n",
    "    Arguments\n",
    "    ---------\n",
    "    function: lambda x: [function]\n",
    "        the function to find the area under\n",
    "        \n",
    "    x_range: [a,b] (a included but b excluded)\n",
    "        the x-value range for area calculation\n",
    "        \n",
    "    y_range: [a,b] (a included but b excluded)\n",
    "        the y-value range for calculation of area\n",
    "        \n",
    "    n_all: int\n",
    "        the number of dots to estimate the area with\n",
    "        the higher the number, the more accurate the result, but the longer the calculation time\n",
    "\n",
    "    Returns\n",
    "    -------\n",
    "    area: float\n",
    "        the area between function and y = 0\n",
    "    '''\n",
    "    \n",
    "    # boundaries of the calculated area\n",
    "    x_1, x_2 = x_range\n",
    "    y_1, y_2 = y_range\n",
    "    \n",
    "    # mark the calculated area with random dots\n",
    "    x_rand = np.random.uniform(low=x_1, high=x_2, size=n_all)\n",
    "    y_rand = np.random.uniform(low=y_1, high=y_2, size=n_all)\n",
    "    \n",
    "    # add a '1' every time y_i <= f(x_i), check length for how many dots under the function\n",
    "    n_below = sum(y_rand <= function(x_rand))\n",
    "    \n",
    "    # calculate area\n",
    "    area = (n_below/n_all) * ((x_2-x_1) * (y_2-y_1))\n",
    "    return area\n",
    "\n",
    "\n",
    "\n",
    "print(mcAlg(lambda x: x**2 * (np.sin(2*x))**2, [2,3], [0,6], 1000000))"
   ]
  },
  {
   "cell_type": "markdown",
   "id": "bdbfd0f4-244d-4897-b74e-edc743913fcf",
   "metadata": {},
   "source": [
    "## Effect of changing $n_{all}$"
   ]
  },
  {
   "cell_type": "code",
   "execution_count": 3,
   "id": "b2f467b9-71bf-4304-83d6-972aa3be5d07",
   "metadata": {},
   "outputs": [
    {
     "name": "stdout",
     "output_type": "stream",
     "text": [
      "Mean +/- standard deviation for n_all =       10: 3.9000000 +/- 1.1045361\n",
      "Mean +/- standard deviation for n_all =      100: 4.1940000 +/- 0.2424046\n",
      "Mean +/- standard deviation for n_all =     1000: 4.1046000 +/- 0.0389307\n",
      "Mean +/- standard deviation for n_all =    10000: 4.0740000 +/- 0.0281908\n",
      "Mean +/- standard deviation for n_all =   100000: 4.0608600 +/- 0.0083795\n",
      "Mean +/- standard deviation for n_all =  1000000: 4.0638558 +/- 0.0019847\n",
      "Mean +/- standard deviation for n_all = 10000000: 4.0647713 +/- 0.0005102\n"
     ]
    }
   ],
   "source": [
    "import numpy as np\n",
    "\n",
    "def mcAlg(function, x_range, y_range, n_all=10000000):\n",
    "    '''\n",
    "    Computes the area between a function and y = 0 using Monte Carlo integration.\n",
    "    \n",
    "    Arguments\n",
    "    ---------\n",
    "    function: lambda x: [function]\n",
    "        the function to find the area under\n",
    "        \n",
    "    x_range: [a,b] (a included but b excluded)\n",
    "        the x-value range for area calculation\n",
    "        \n",
    "    y_range: [a,b] (a included but b excluded)\n",
    "        the y-value range for calculation of area\n",
    "        \n",
    "    n_all: int\n",
    "        the number of dots to estimate the area with\n",
    "        the higher the number, the more accurate the result, but the longer the calculation time\n",
    "\n",
    "    Returns\n",
    "    -------\n",
    "    area: float\n",
    "        the area between function and y = 0\n",
    "    '''\n",
    "    \n",
    "    # boundaries of the calculated area\n",
    "    x_1, x_2 = x_range\n",
    "    y_1, y_2 = y_range\n",
    "    \n",
    "    # mark the calculated area with random dots\n",
    "    x_rand = np.random.uniform(low=x_1, high=x_2, size=n_all)\n",
    "    y_rand = np.random.uniform(low=y_1, high=y_2, size=n_all)\n",
    "    \n",
    "    # add a '1' every time y_i <= f(x_i), check length for how many dots under the function\n",
    "    n_below = sum(y_rand <= function(x_rand))\n",
    "    \n",
    "    # calculate area\n",
    "    area = (n_below/n_all) * ((x_2-x_1) * (y_2-y_1))\n",
    "    return area\n",
    "\n",
    "\n",
    "\n",
    "for n_all in [10, 100, 1000, 10000, 100000, 1000000, 10000000]:\n",
    "    result = []\n",
    "    for i in range(10):\n",
    "        result.append(mcAlg(lambda x: x**2 * (np.sin(2*x))**2, [2,3], [0,6], n_all))\n",
    "    print(f'Mean +/- standard deviation for n_all = {n_all:>8}: {np.mean(result):.7f} +/- {np.std(result, ddof = 1):.7f}')"
   ]
  },
  {
   "cell_type": "markdown",
   "id": "8a0f0873-64c1-44db-92b2-116f3c2cc465",
   "metadata": {},
   "source": [
    "There seems to be an increase in accuracy (closer to the actual value of the integral, 4.0647) and precision (lower standard deviation) of the results when $n_{all}$ is increased."
   ]
  },
  {
   "cell_type": "markdown",
   "id": "865a80c9-8a37-4938-909c-b4b4f95bcd84",
   "metadata": {},
   "source": [
    "# Task 3"
   ]
  },
  {
   "cell_type": "markdown",
   "id": "15bf4c42-8e88-49e5-a798-8dbf89e8df80",
   "metadata": {},
   "source": [
    "For $X_i$ drawn uniformly, the Monte Carlo estimator is described as follows.\n",
    "$$\n",
    "\\int_{a}^{b}f(x)dx \\approx (b-a) \\dfrac{1}{N} \\sum_{i=0}^{N-1}f(X_i)\n",
    "$$"
   ]
  },
  {
   "cell_type": "code",
   "execution_count": 2,
   "id": "c0f3eb43-7d41-4e29-9c0d-53b1270adb05",
   "metadata": {},
   "outputs": [
    {
     "name": "stdout",
     "output_type": "stream",
     "text": [
      "4.064558924068554\n"
     ]
    }
   ],
   "source": [
    "import numpy as np\n",
    "\n",
    "def mcEst(function, x_range, n_all):\n",
    "    x_1, x_2 = x_range\n",
    "    x_rand = np.random.uniform(low=x_1, high=x_2, size=n_all)\n",
    "    y_rand = function(x_rand)\n",
    "    area = (x_2-x_1) * (1/n_all) * np.sum(y_rand)\n",
    "    return area\n",
    "\n",
    "print(mcEst(lambda x: x**2 * np.sin(2*x)**2, [2,3], 100000000))"
   ]
  }
 ],
 "metadata": {
  "kernelspec": {
   "display_name": "Python 3 (ipykernel)",
   "language": "python",
   "name": "python3"
  },
  "language_info": {
   "codemirror_mode": {
    "name": "ipython",
    "version": 3
   },
   "file_extension": ".py",
   "mimetype": "text/x-python",
   "name": "python",
   "nbconvert_exporter": "python",
   "pygments_lexer": "ipython3",
   "version": "3.12.3"
  }
 },
 "nbformat": 4,
 "nbformat_minor": 5
}
