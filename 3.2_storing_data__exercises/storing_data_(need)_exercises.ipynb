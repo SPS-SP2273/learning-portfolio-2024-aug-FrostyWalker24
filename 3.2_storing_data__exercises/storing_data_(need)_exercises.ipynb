{
 "cells": [
  {
   "attachments": {},
   "cell_type": "markdown",
   "id": "123456",
   "metadata": {},
   "source": [
    "<div style=\"text-align:left;font-size:2em\"><span style=\"font-weight:bolder;font-size:1.25em\">SP2273 | Learning Portfolio</span><br><br><span style=\"font-weight:bold;color:darkred\">Storing Data (Need) Exercises</span></div>"
   ]
  },
  {
   "cell_type": "markdown",
   "id": "01e4b946-8a41-4701-9916-7bd82a5e8a09",
   "metadata": {},
   "source": [
    "# Exercise 1"
   ]
  },
  {
   "cell_type": "markdown",
   "id": "d540210e-f2c3-4836-aa2c-19406d70e662",
   "metadata": {},
   "source": [
    "1. Two similarities between lists and arrays.\n",
    "   - They both have multiple dimensions.\n",
    "   - They both are ordered.\n",
    "1. Two differences between lists and arrays.\n",
    "   - Operations generally act on the entire list in lists, but on each element on the array in arrays.\n",
    "   - Arrays can only accept one data type, while lists do not.\n",
    "1. What is a dictionary?\n",
    "   - It is a data type which holds key-value elements."
   ]
  },
  {
   "cell_type": "markdown",
   "id": "50571b11-52d6-46da-9384-292d6fc09e0c",
   "metadata": {},
   "source": [
    "# Exercise 2"
   ]
  },
  {
   "cell_type": "code",
   "execution_count": 11,
   "id": "9f3f3e93-80c0-4711-b994-3387a0b18e79",
   "metadata": {},
   "outputs": [
    {
     "name": "stdout",
     "output_type": "stream",
     "text": [
      "a1\n",
      "c3\n",
      "e5\n",
      "g7\n",
      "i9\n",
      "a1\n",
      "c3\n",
      "e5\n",
      "g7\n",
      "i9\n"
     ]
    }
   ],
   "source": [
    "py_list = [\"a1\", \"b2\", \"c3\", \"d4\", \"e5\", \"f6\", \"g7\", \"h8\", \"i9\", \"j10\"]\n",
    "\n",
    "print(py_list[0]) # Prints \"a1\"\n",
    "print(py_list[2]) # Prints \"c3\"\n",
    "print(py_list[4]) # Prints \"e5\"\n",
    "print(py_list[6]) # Prints \"g7\"\n",
    "print(py_list[8]) # Prints \"i9\"\n",
    "\n",
    "# or\n",
    "\n",
    "for i in range(0,10,2):\n",
    "    print(py_list[i])"
   ]
  },
  {
   "cell_type": "markdown",
   "id": "71252ed4-1d01-4397-bb06-926626cc4ca4",
   "metadata": {},
   "source": [
    "# Exercise 3"
   ]
  },
  {
   "cell_type": "code",
   "execution_count": 13,
   "id": "ed539cd4-64e0-4087-b039-360e1725cd28",
   "metadata": {},
   "outputs": [
    {
     "name": "stdout",
     "output_type": "stream",
     "text": [
      "Boron\n",
      "Boron\n"
     ]
    }
   ],
   "source": [
    "elements = [\"Hydrogen\",\n",
    "            \"Helium\", \"Lithium\",\n",
    "            \"Beryllium\", \"Boron\", \"Carbon\",\n",
    "            \"Nitrogen\", \"Oxygen\",\n",
    "            \"Fluorine\",\n",
    "            \"Neon\"]\n",
    "\n",
    "print(elements[4])\n",
    "print(elements[-6])"
   ]
  },
  {
   "cell_type": "markdown",
   "id": "6550b935-294d-440b-ba42-ece694b527ca",
   "metadata": {},
   "source": [
    "# Exercise 4"
   ]
  },
  {
   "cell_type": "code",
   "execution_count": 10,
   "id": "1c4dc3f6-21e8-4704-a78e-3b4f9bee48d4",
   "metadata": {},
   "outputs": [
    {
     "name": "stdout",
     "output_type": "stream",
     "text": [
      "9\n"
     ]
    }
   ],
   "source": [
    "import numpy as np\n",
    "\n",
    "numbers=[45, 60, 1, 30, 96, 1, 96, 57, 16, 1,\n",
    "        99, 62, 86, 43, 42, 60, 59, 1, 1, 35,\n",
    "        83, 47, 34, 28, 68, 23, 22, 92, 1, 79,\n",
    "        1, 29, 94, 72, 46, 47, 1, 74, 32, 20,\n",
    "        8, 37, 35, 1, 89, 29, 86, 19, 43, 61]\n",
    "\n",
    "np_numbers = np.array(numbers)\n",
    "print(sum(np_numbers == 1))    # turns all the elements to just True or False depending on whether the element is equal to 1, and sums all the True (1) up"
   ]
  },
  {
   "cell_type": "markdown",
   "id": "4bedf549-fc84-4aa0-9969-3ec61314213d",
   "metadata": {},
   "source": [
    "# Exercise 5"
   ]
  },
  {
   "cell_type": "code",
   "execution_count": 9,
   "id": "56c611f7-a3a2-4120-87ab-329cd23550db",
   "metadata": {},
   "outputs": [
    {
     "name": "stdout",
     "output_type": "stream",
     "text": [
      "38.5\n",
      "302.5 \n",
      "\n",
      "32.41990129534635\n",
      "326.0893282522444 \n",
      "\n",
      "0.9871796626270701 \n",
      "\n",
      "[[1.         0.98717966]\n",
      " [0.98717966 1.        ]] \n",
      "\n",
      "The result of manual and numpy r calculation is the same!\n"
     ]
    }
   ],
   "source": [
    "import numpy as np\n",
    "\n",
    "x_1 = [1, 4, 9, 16, 25, 36, 49, 64, 81, 100]\n",
    "x_2 = [1, 8, 27, 64, 125, 216, 343, 512, 729, 1000]\n",
    "\n",
    "np_x1 = np.array(x_1)\n",
    "np_x2 = np.array(x_2)\n",
    "\n",
    "# means\n",
    "print(np.mean(np_x1))\n",
    "print(np.mean(np_x2), \"\\n\")\n",
    "\n",
    "# std\n",
    "print(np.std(np_x1))\n",
    "print(np.std(np_x2), \"\\n\")\n",
    "\n",
    "# manual r calculation\n",
    "n = 10\n",
    "sum_x1 = sum(np_x1)\n",
    "sum_x2 = sum(np_x2)\n",
    "sum_x1sq = sum(np_x1**2)\n",
    "sum_x2sq = sum(np_x2**2)\n",
    "sum_x1x2 = sum(np_x1 * np_x2)\n",
    "r = (n*sum_x1x2 - sum_x1*sum_x2)/(np.sqrt((n*sum_x1sq - sum_x1**2)*(n*sum_x2sq - sum_x2**2)))\n",
    "print(r, \"\\n\")\n",
    "\n",
    "# np r calculation\n",
    "print(np.corrcoef(np_x1, np_x2), \"\\n\")\n",
    "\n",
    "print(\"The result of manual and numpy r calculation is the same!\")\n",
    "\n"
   ]
  }
 ],
 "metadata": {
  "kernelspec": {
   "display_name": "Python 3 (ipykernel)",
   "language": "python",
   "name": "python3"
  },
  "language_info": {
   "codemirror_mode": {
    "name": "ipython",
    "version": 3
   },
   "file_extension": ".py",
   "mimetype": "text/x-python",
   "name": "python",
   "nbconvert_exporter": "python",
   "pygments_lexer": "ipython3",
   "version": "3.12.3"
  },
  "toc": {
   "base_numbering": 1,
   "nav_menu": {},
   "number_sections": true,
   "sideBar": true,
   "skip_h1_title": false,
   "title_cell": "Table of Contents",
   "title_sidebar": "Contents",
   "toc_cell": false,
   "toc_position": {},
   "toc_section_display": true,
   "toc_window_display": false
  },
  "vscode": {
   "interpreter": {
    "hash": "31f2aee4e71d21fbe5cf8b01ff0e069b9275f58929596ceb00d14d90e3e16cd6"
   }
  }
 },
 "nbformat": 4,
 "nbformat_minor": 5
}
