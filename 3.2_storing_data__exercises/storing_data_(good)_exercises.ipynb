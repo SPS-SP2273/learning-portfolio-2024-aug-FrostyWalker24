{
 "cells": [
  {
   "attachments": {},
   "cell_type": "markdown",
   "id": "123456",
   "metadata": {},
   "source": [
    "<div style=\"text-align:left;font-size:2em\"><span style=\"font-weight:bolder;font-size:1.25em\">SP2273 | Learning Portfolio</span><br><br><span style=\"font-weight:bold;color:darkred\">Storing Data (Good) Exercises</span></div>"
   ]
  },
  {
   "cell_type": "markdown",
   "id": "cf133fa9-15f6-4d1d-ac1f-3630aad1eee6",
   "metadata": {},
   "source": [
    "# Exercise 1"
   ]
  },
  {
   "cell_type": "markdown",
   "id": "ebc1e15b-a921-4191-b6a6-573f85719cea",
   "metadata": {},
   "source": [
    "| **Term**   | **Brief description**                                                                                                                                     |\n",
    "|------------|-----------------------------------------------------------------------------------------------------------------------------------------------------------|\n",
    "| Subsetting | Selecting a part of a list/NumPy array                                                                                                                    |\n",
    "| Indexing   | One type of subsetting which selects one element from a list/NumPy array                                                                                  |\n",
    "| Slicing    | Another type of subsetting which selects a range of elements from a list/NumPy array                                                                      |\n",
    "| Masking    | Another type of subsetting which selects a part of a list/NumPy array based on some criteria (including using bitwise operators such as AND, OR, or NOT)  |"
   ]
  },
  {
   "cell_type": "markdown",
   "id": "6fba79eb-5a84-4601-bab9-31e69a77d3d3",
   "metadata": {},
   "source": [
    "# Exercise 2"
   ]
  },
  {
   "cell_type": "code",
   "execution_count": 18,
   "id": "540ab4c0-993e-4d60-bd97-32d9c5d0b95c",
   "metadata": {},
   "outputs": [
    {
     "name": "stdout",
     "output_type": "stream",
     "text": [
      "['A' 'C' 'E' 'G' 'I']\n"
     ]
    }
   ],
   "source": [
    "import numpy as np\n",
    "\n",
    "np_array_2d = np.array([[1, \"A\"], [3, \"C\"], [2, \"B\"], [4, \"D\"],\n",
    "                        [5, \"E\"], [7, \"G\"], [6, \"F\"], [8, \"H\"],\n",
    "                        [10, \"J\"], [9, \"I\"]])\n",
    "\n",
    "# convert all the numbers into integers \n",
    "array_ele1 = np_array_2d[:,0].astype(int)\n",
    "# check for the odd ones\n",
    "array_ele1_odd = array_ele1 % 2\n",
    "# masking for the odd ones\n",
    "odd_mask = array_ele1_odd == 1\n",
    "# applying the mask to the original array then printing it\n",
    "odd_letters = np_array_2d[odd_mask][:,1]\n",
    "print(odd_letters)"
   ]
  },
  {
   "cell_type": "markdown",
   "id": "4fc3fec2-63e8-42bb-b5d4-7f24760485b4",
   "metadata": {},
   "source": [
    "# Exercise 3"
   ]
  },
  {
   "cell_type": "code",
   "execution_count": 25,
   "id": "63c47c1b-9a00-4778-ad3a-2a25f25cf3d2",
   "metadata": {},
   "outputs": [
    {
     "name": "stdout",
     "output_type": "stream",
     "text": [
      "[[ 1  0  1 -1 -1]\n",
      " [ 1 -1  1 -1 -1]\n",
      " [ 1 -1 -1  1 -1]\n",
      " [-1  1  1 -1 -1]\n",
      " [ 1 -1  1 -1  1]]\n"
     ]
    }
   ],
   "source": [
    "import numpy as np\n",
    "\n",
    "np_2d_array = np.array(\n",
    "[[66, 50, 57, -1, -1],\n",
    " [92, -1, 88, -1, -1],\n",
    " [75, -1, -1, 76, -1],\n",
    " [-1, 51, 87, -1, -1],\n",
    " [71, -1, 67, -1, 69]])\n",
    "\n",
    "# make masks\n",
    "less_50_mask = np_2d_array < 50\n",
    "more_50_mask = np_2d_array > 50\n",
    "equal_50_mask = np_2d_array == 50\n",
    "\n",
    "# change the values according to the masks\n",
    "np_2d_array[less_50_mask] = -1\n",
    "np_2d_array[more_50_mask] = 1\n",
    "np_2d_array[equal_50_mask] = 0\n",
    "\n",
    "print(np_2d_array)"
   ]
  }
 ],
 "metadata": {
  "kernelspec": {
   "display_name": "Python 3 (ipykernel)",
   "language": "python",
   "name": "python3"
  },
  "language_info": {
   "codemirror_mode": {
    "name": "ipython",
    "version": 3
   },
   "file_extension": ".py",
   "mimetype": "text/x-python",
   "name": "python",
   "nbconvert_exporter": "python",
   "pygments_lexer": "ipython3",
   "version": "3.12.3"
  },
  "toc": {
   "base_numbering": 1,
   "nav_menu": {},
   "number_sections": true,
   "sideBar": true,
   "skip_h1_title": false,
   "title_cell": "Table of Contents",
   "title_sidebar": "Contents",
   "toc_cell": false,
   "toc_position": {},
   "toc_section_display": true,
   "toc_window_display": false
  },
  "vscode": {
   "interpreter": {
    "hash": "31f2aee4e71d21fbe5cf8b01ff0e069b9275f58929596ceb00d14d90e3e16cd6"
   }
  }
 },
 "nbformat": 4,
 "nbformat_minor": 5
}
