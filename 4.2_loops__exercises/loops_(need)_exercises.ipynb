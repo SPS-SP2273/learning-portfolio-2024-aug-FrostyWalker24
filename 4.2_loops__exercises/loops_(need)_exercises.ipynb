{
 "cells": [
  {
   "attachments": {},
   "cell_type": "markdown",
   "id": "123456",
   "metadata": {},
   "source": [
    "<div style=\"text-align:left;font-size:2em\"><span style=\"font-weight:bolder;font-size:1.25em\">SP2273 | Learning Portfolio</span><br><br><span style=\"font-weight:bold;color:darkred\">Loops (Need) Exercises</span></div>"
   ]
  },
  {
   "cell_type": "markdown",
   "id": "2c2272ec-09c5-4ba1-b0f2-ffdf6886b779",
   "metadata": {},
   "source": [
    "# Exercise 1 "
   ]
  },
  {
   "cell_type": "code",
   "execution_count": 9,
   "id": "9a724853-769d-44f1-9328-5ed007a07614",
   "metadata": {},
   "outputs": [
    {
     "name": "stdout",
     "output_type": "stream",
     "text": [
      "0 , 32.0\n",
      "5 , 41.0\n",
      "10, 50.0\n",
      "15, 59.0\n",
      "20, 68.0\n",
      "25, 77.0\n",
      "30, 86.0\n",
      "35, 95.0\n",
      "40, 104.0\n",
      "45, 113.0\n",
      "50, 122.0\n"
     ]
    }
   ],
   "source": [
    "temperatures_celsius = [\n",
    "    0, 5, 10, 15, 20, 25,\n",
    "    30, 35, 40, 45, 50\n",
    "]\n",
    "\n",
    "temperatures_fahrenheit = []\n",
    "\n",
    "for index, temp in enumerate(temperatures_celsius):\n",
    "    temperatures_fahrenheit.append(temp*(9/5) + 32)\n",
    "    print(f\"{temperatures_celsius[index]:<2}, {temperatures_fahrenheit[index]}\")"
   ]
  },
  {
   "cell_type": "markdown",
   "id": "0da9fd5b-ee1f-4101-a55b-33d476b50df4",
   "metadata": {},
   "source": [
    "# Exercise 2"
   ]
  },
  {
   "cell_type": "markdown",
   "id": "c59feca9-64fd-48a1-8759-5684d6162461",
   "metadata": {},
   "source": [
    "## Example"
   ]
  },
  {
   "cell_type": "code",
   "execution_count": 10,
   "id": "4cea7848-fbfb-4bd1-96f8-9d240bcf127c",
   "metadata": {},
   "outputs": [
    {
     "name": "stdout",
     "output_type": "stream",
     "text": [
      "A1\tA2\tA3\t\n",
      "\n",
      "B1\tB2\tB3\t\n",
      "\n",
      "C1\tC2\tC3\t\n",
      "\n"
     ]
    }
   ],
   "source": [
    "for letter in [\"A\", \"B\", \"C\"]:\n",
    "    for number in [1, 2, 3]:\n",
    "        print(f\"{letter}{number}\", end=\"\\t\")\n",
    "    print(\"\\n\")"
   ]
  },
  {
   "cell_type": "markdown",
   "id": "d8de7a3b-6dda-4eef-9c15-bc9be5e451bf",
   "metadata": {},
   "source": [
    "## Task"
   ]
  },
  {
   "cell_type": "code",
   "execution_count": 6,
   "id": "1061bceb-21ce-40bb-963a-ae214add9994",
   "metadata": {},
   "outputs": [
    {
     "name": "stdout",
     "output_type": "stream",
     "text": [
      "1 : 1  2  3  4  5  \n",
      "\n",
      "2 : 2  4  6  8  10 \n",
      "\n",
      "3 : 3  6  9  12 15 \n",
      "\n",
      "4 : 4  8  12 16 20 \n",
      "\n",
      "5 : 5  10 15 20 25 \n",
      "\n"
     ]
    }
   ],
   "source": [
    "for i in [1, 2, 3, 4, 5]:\n",
    "    print(f\"{i} : \", end=\"\")\n",
    "    for j in range(1,6):\n",
    "        print(f\"{i*j:<2}\", end=\" \")\n",
    "    print(\"\\n\")"
   ]
  },
  {
   "cell_type": "markdown",
   "id": "2873862f-11ae-4afe-b9a5-3d5fbd06d282",
   "metadata": {},
   "source": [
    "# Exercise 3"
   ]
  },
  {
   "cell_type": "markdown",
   "id": "e57c8767-a100-4397-ba5c-aaf179b68eb1",
   "metadata": {},
   "source": [
    "## Example"
   ]
  },
  {
   "cell_type": "code",
   "execution_count": 44,
   "id": "65b0de51-4ffa-4228-ba92-20683c785fbc",
   "metadata": {},
   "outputs": [
    {
     "name": "stdout",
     "output_type": "stream",
     "text": [
      "[0.39779957 0.62221217 0.81661974 0.3674933  0.2727139  0.3098616\n",
      " 0.65507261 0.21670465 0.91561893 0.40683345]\n",
      "4\n"
     ]
    }
   ],
   "source": [
    "import numpy as np\n",
    "\n",
    "coin_flip = np.random.rand(10)\n",
    "heads = coin_flip > 0.5\n",
    "\n",
    "print(coin_flip)\n",
    "print(sum(heads))"
   ]
  },
  {
   "cell_type": "markdown",
   "id": "c2b8bfee-4444-4ce5-b5ff-923f2e262bc5",
   "metadata": {},
   "source": [
    "## Task"
   ]
  },
  {
   "cell_type": "code",
   "execution_count": 78,
   "id": "65611716-2eba-4958-ad71-c6e0407eb7d2",
   "metadata": {},
   "outputs": [
    {
     "name": "stdout",
     "output_type": "stream",
     "text": [
      "Experiment  1: No. of Heads = 7\n",
      "Experiment  2: No. of Heads = 6\n",
      "Experiment  3: No. of Heads = 6\n",
      "Experiment  4: No. of Heads = 5\n",
      "Experiment  5: No. of Heads = 3\n",
      "Experiment  6: No. of Heads = 6\n",
      "Experiment  7: No. of Heads = 5\n",
      "Experiment  8: No. of Heads = 6\n",
      "Experiment  9: No. of Heads = 4\n",
      "Experiment 10: No. of Heads = 5\n"
     ]
    }
   ],
   "source": [
    "import numpy as np\n",
    "\n",
    "for exp in range(1,11):\n",
    "    coin_flip = np.random.rand(10)\n",
    "    heads = sum(coin_flip > 0.5)\n",
    "    print(f\"Experiment {exp:>2}: No. of Heads = {heads}\")"
   ]
  }
 ],
 "metadata": {
  "kernelspec": {
   "display_name": "Python 3 (ipykernel)",
   "language": "python",
   "name": "python3"
  },
  "language_info": {
   "codemirror_mode": {
    "name": "ipython",
    "version": 3
   },
   "file_extension": ".py",
   "mimetype": "text/x-python",
   "name": "python",
   "nbconvert_exporter": "python",
   "pygments_lexer": "ipython3",
   "version": "3.12.3"
  },
  "toc": {
   "base_numbering": 1,
   "nav_menu": {},
   "number_sections": true,
   "sideBar": true,
   "skip_h1_title": false,
   "title_cell": "Table of Contents",
   "title_sidebar": "Contents",
   "toc_cell": false,
   "toc_position": {},
   "toc_section_display": true,
   "toc_window_display": false
  },
  "vscode": {
   "interpreter": {
    "hash": "31f2aee4e71d21fbe5cf8b01ff0e069b9275f58929596ceb00d14d90e3e16cd6"
   }
  }
 },
 "nbformat": 4,
 "nbformat_minor": 5
}
