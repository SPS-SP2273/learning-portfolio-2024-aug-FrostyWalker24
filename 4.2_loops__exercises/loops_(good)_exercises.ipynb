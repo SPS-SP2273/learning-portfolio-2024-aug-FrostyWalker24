{
 "cells": [
  {
   "attachments": {},
   "cell_type": "markdown",
   "id": "123456",
   "metadata": {},
   "source": [
    "<div style=\"text-align:left;font-size:2em\"><span style=\"font-weight:bolder;font-size:1.25em\">SP2273 | Learning Portfolio</span><br><br><span style=\"font-weight:bold;color:darkred\">Loops (Good) Exercises</span></div>"
   ]
  },
  {
   "cell_type": "markdown",
   "id": "51212f06-da03-42a5-a8b0-0e56ad90e895",
   "metadata": {},
   "source": [
    "# Exercise 1"
   ]
  },
  {
   "cell_type": "code",
   "execution_count": 3,
   "id": "d08d7bde-5dfd-45ab-86e9-d5472541f1cc",
   "metadata": {},
   "outputs": [
    {
     "name": "stdout",
     "output_type": "stream",
     "text": [
      "[1, 9, 25, 49, 81]\n"
     ]
    }
   ],
   "source": [
    "sq_odd = []\n",
    "\n",
    "# generates a list of the squares of the odd integers from 0-9\n",
    "for i in range(10):\n",
    "    if i % 2 == 0:   # if even, skip\n",
    "        continue\n",
    "    else:\n",
    "        sq_odd.append(i**2)\n",
    "\n",
    "print(sq_odd)"
   ]
  },
  {
   "cell_type": "markdown",
   "id": "17349ee0-609e-4f6c-9593-b26a7aba65fc",
   "metadata": {},
   "source": [
    "# Exercise 2"
   ]
  },
  {
   "cell_type": "code",
   "execution_count": 4,
   "id": "0eb8383c-c911-42f1-b425-d350e9433427",
   "metadata": {},
   "outputs": [
    {
     "data": {
      "text/plain": [
       "[1, 9, 25, 49, 81]"
      ]
     },
     "execution_count": 4,
     "metadata": {},
     "output_type": "execute_result"
    }
   ],
   "source": [
    "[i**2 for i in range(10) if i % 2 == 1]"
   ]
  },
  {
   "cell_type": "markdown",
   "id": "fccc5a42-cd36-458d-a490-d41c3a494aa1",
   "metadata": {},
   "source": [
    "# Exercise 3"
   ]
  },
  {
   "cell_type": "code",
   "execution_count": 6,
   "id": "fd733a50-fcb9-4709-8ee3-518479465b93",
   "metadata": {},
   "outputs": [
    {
     "name": "stdout",
     "output_type": "stream",
     "text": [
      "716 ns ± 1.83 ns per loop (mean ± std. dev. of 7 runs, 1,000,000 loops each)\n"
     ]
    }
   ],
   "source": [
    "%%timeit\n",
    "sq_odd = []\n",
    "for i in range(10):\n",
    "    if i % 2 == 0:\n",
    "        continue\n",
    "    else:\n",
    "        sq_odd.append(i**2)"
   ]
  },
  {
   "cell_type": "code",
   "execution_count": 7,
   "id": "a4301082-971f-4f16-9251-4586d7d694d0",
   "metadata": {},
   "outputs": [
    {
     "name": "stdout",
     "output_type": "stream",
     "text": [
      "651 ns ± 1.61 ns per loop (mean ± std. dev. of 7 runs, 1,000,000 loops each)\n"
     ]
    }
   ],
   "source": [
    "%%timeit\n",
    "[i**2 for i in range(10) if i % 2 == 1]"
   ]
  },
  {
   "cell_type": "markdown",
   "id": "a4686b27-57ef-429e-82b4-7f87dd5ca8f3",
   "metadata": {},
   "source": [
    "List comprehension is faster!"
   ]
  },
  {
   "cell_type": "markdown",
   "id": "fa6f1adc-4db6-436c-a4a2-8990b3969973",
   "metadata": {},
   "source": [
    "# Exercise 4"
   ]
  },
  {
   "cell_type": "code",
   "execution_count": 1,
   "id": "d4419f01-aa8a-4f1a-aca1-dfd241a238de",
   "metadata": {},
   "outputs": [
    {
     "name": "stdout",
     "output_type": "stream",
     "text": [
      "14\n"
     ]
    }
   ],
   "source": [
    "rad = 100\n",
    "year = 0\n",
    "\n",
    "# keeps the loop running if sample is still above 50 units (more than half)\n",
    "while rad > 50:\n",
    "    rad = (95/100)*rad\n",
    "    year += 1\n",
    "\n",
    "print(year)"
   ]
  },
  {
   "cell_type": "markdown",
   "id": "9c7e6ef4-4053-4699-81bd-ee37be62721f",
   "metadata": {},
   "source": [
    "# Exercise 5"
   ]
  },
  {
   "cell_type": "markdown",
   "id": "495caccb-fa29-42e9-8b71-0dd4c50b97d8",
   "metadata": {},
   "source": [
    "## My first idea, less optimised"
   ]
  },
  {
   "cell_type": "code",
   "execution_count": 59,
   "id": "544d70b4-cfc2-475b-a353-6c08fcf51998",
   "metadata": {},
   "outputs": [
    {
     "name": "stdout",
     "output_type": "stream",
     "text": [
      "Year: 2016, concentration difference: 3.41 ppm\n"
     ]
    }
   ],
   "source": [
    "import numpy as np\n",
    "\n",
    "co2_data = np.array([\n",
    "    (2000, 369.55), (2001, 371.14), (2002, 373.28), \n",
    "    (2003, 375.80), (2004, 377.52), (2005, 379.80), \n",
    "    (2006, 381.90), (2007, 383.79), (2008, 385.60), \n",
    "    (2009, 387.43), (2010, 389.90), (2011, 391.65), \n",
    "    (2012, 393.85), (2013, 396.52), (2014, 398.65),\n",
    "    (2015, 400.83), (2016, 404.24), (2017, 406.55), \n",
    "    (2018, 408.52), (2019, 411.44), (2020, 414.24)\n",
    "])\n",
    "\n",
    "# make a new array of differences (np_diff)\n",
    "np_year = co2_data[1:,0]\n",
    "np_co2 = co2_data[:,1]\n",
    "diff = []\n",
    "\n",
    "for index, ppm in enumerate(np_co2):\n",
    "    if ppm == np_co2[0]:\n",
    "        continue\n",
    "    diff.append(np_co2[index] - np_co2[index-1])\n",
    "\n",
    "np_diff = np.array(diff)\n",
    "\n",
    "# merging the differences with the years\n",
    "np_co2_diff = np.column_stack((np_year, np_diff))\n",
    "    \n",
    "# mask the array for differences > 3 ppm\n",
    "more_3_ppm = np_co2_diff[:,1] > 3\n",
    "\n",
    "# print the years and change in concentration after being masked\n",
    "for year, co2_diff in np_co2_diff[more_3_ppm]:\n",
    "    print(f\"Year: {int(year)}, concentration difference: {co2_diff:.2f} ppm\")"
   ]
  },
  {
   "cell_type": "code",
   "execution_count": 60,
   "id": "532208cc-4ee5-49e5-9c25-2320cca86659",
   "metadata": {},
   "outputs": [
    {
     "name": "stdout",
     "output_type": "stream",
     "text": [
      "24 μs ± 260 ns per loop (mean ± std. dev. of 7 runs, 10,000 loops each)\n"
     ]
    }
   ],
   "source": [
    "%%timeit\n",
    "import numpy as np\n",
    "\n",
    "co2_data = np.array([\n",
    "    (2000, 369.55), (2001, 371.14), (2002, 373.28), \n",
    "    (2003, 375.80), (2004, 377.52), (2005, 379.80), \n",
    "    (2006, 381.90), (2007, 383.79), (2008, 385.60), \n",
    "    (2009, 387.43), (2010, 389.90), (2011, 391.65), \n",
    "    (2012, 393.85), (2013, 396.52), (2014, 398.65),\n",
    "    (2015, 400.83), (2016, 404.24), (2017, 406.55), \n",
    "    (2018, 408.52), (2019, 411.44), (2020, 414.24)\n",
    "])\n",
    "\n",
    "# make a new array of differences (np_diff)\n",
    "np_year = co2_data[1:,0]\n",
    "np_co2 = co2_data[:,1]\n",
    "diff = []\n",
    "\n",
    "for index, ppm in enumerate(np_co2):\n",
    "    if ppm == np_co2[0]:\n",
    "        continue\n",
    "    diff.append(np_co2[index] - np_co2[index-1])\n",
    "\n",
    "np_diff = np.array(diff)\n",
    "\n",
    "# merging the differences with the years\n",
    "np_co2_diff = np.column_stack((np_year, np_diff))\n",
    "    \n",
    "# mask the array for differences > 3 ppm\n",
    "more_3_ppm = np_co2_diff[:,1] > 3\n",
    "\n",
    "# print the years and change in concentration after being masked\n",
    "for year, co2_diff in np_co2_diff[more_3_ppm]:\n",
    "    result = f\"Year: {int(year)}, concentration difference: {co2_diff:.2f} ppm\""
   ]
  },
  {
   "cell_type": "markdown",
   "id": "4055d7fa-ba0a-4850-8d30-1a0ed723f3d7",
   "metadata": {},
   "source": [
    "## My second idea, with help of Dr Chammika, much faster and more optimised"
   ]
  },
  {
   "cell_type": "code",
   "execution_count": 2,
   "id": "7cfb2065-fe94-4b67-98dc-50f4a38659c0",
   "metadata": {},
   "outputs": [
    {
     "name": "stdout",
     "output_type": "stream",
     "text": [
      "Year: 2016, concentration difference: 3.41 ppm\n"
     ]
    }
   ],
   "source": [
    "import numpy as np\n",
    "\n",
    "co2_data = np.array([\n",
    "    (2000, 369.55), (2001, 371.14), (2002, 373.28), \n",
    "    (2003, 375.80), (2004, 377.52), (2005, 379.80), \n",
    "    (2006, 381.90), (2007, 383.79), (2008, 385.60), \n",
    "    (2009, 387.43), (2010, 389.90), (2011, 391.65), \n",
    "    (2012, 393.85), (2013, 396.52), (2014, 398.65),\n",
    "    (2015, 400.83), (2016, 404.24), (2017, 406.55), \n",
    "    (2018, 408.52), (2019, 411.44), (2020, 414.24)\n",
    "])\n",
    "\n",
    "# make a new array to store indices with change in ppm >= 3\n",
    "important_index = []\n",
    "\n",
    "# loop from the second element onwards, calculate the difference from the previous year\n",
    "# then if the difference is >= 3, add the index to the important_index list\n",
    "for index, ppm in enumerate(co2_data[1:]):\n",
    "    each_diff = co2_data[index, 1] - co2_data[index-1, 1]\n",
    "    if each_diff >= 3:\n",
    "        important_index.append(index)\n",
    "\n",
    "# using the important indices, print the year and concentration difference\n",
    "for index in important_index:\n",
    "    print(f\"Year: {int(co2_data[index, 0])}, concentration difference: {co2_data[index, 1] - co2_data[index-1, 1]:.2f} ppm\")"
   ]
  },
  {
   "cell_type": "code",
   "execution_count": 1,
   "id": "2b9f6fb5-b577-43d7-b84d-4e74250b37b0",
   "metadata": {},
   "outputs": [
    {
     "name": "stdout",
     "output_type": "stream",
     "text": [
      "21.5 μs ± 12 μs per loop (mean ± std. dev. of 7 runs, 1 loop each)\n"
     ]
    }
   ],
   "source": [
    "%%timeit\n",
    "import numpy as np\n",
    "\n",
    "co2_data = np.array([\n",
    "    (2000, 369.55), (2001, 371.14), (2002, 373.28), \n",
    "    (2003, 375.80), (2004, 377.52), (2005, 379.80), \n",
    "    (2006, 381.90), (2007, 383.79), (2008, 385.60), \n",
    "    (2009, 387.43), (2010, 389.90), (2011, 391.65), \n",
    "    (2012, 393.85), (2013, 396.52), (2014, 398.65),\n",
    "    (2015, 400.83), (2016, 404.24), (2017, 406.55), \n",
    "    (2018, 408.52), (2019, 411.44), (2020, 414.24)\n",
    "])\n",
    "\n",
    "# make a new array to store indices with change in ppm >= 3\n",
    "important_index = []\n",
    "\n",
    "# loop from the second element onwards, calculate the difference from the previous year\n",
    "# then if the difference is >= 3, add the index to the important_index list\n",
    "for index, ppm in enumerate(co2_data[1:]):\n",
    "    each_diff = co2_data[index, 1] - co2_data[index-1, 1]\n",
    "    if each_diff >= 3:\n",
    "        important_index.append(index)\n",
    "\n",
    "# using the important indices, print the year and concentration difference\n",
    "for index in important_index:\n",
    "    result = f\"Year: {int(co2_data[index, 0])}, concentration difference: {co2_data[index, 1] - co2_data[index-1, 1]:.2f} ppm\""
   ]
  },
  {
   "cell_type": "markdown",
   "id": "93f2eb11-a473-48f8-a086-e5afbe3d3f20",
   "metadata": {},
   "source": [
    "## An even faster way (courtesy of Nicholas)"
   ]
  },
  {
   "cell_type": "code",
   "execution_count": 3,
   "id": "edfb8022-9a7d-4a21-aa8d-5637248518ee",
   "metadata": {},
   "outputs": [
    {
     "name": "stdout",
     "output_type": "stream",
     "text": [
      "15.6 μs ± 78.2 ns per loop (mean ± std. dev. of 7 runs, 100,000 loops each)\n"
     ]
    }
   ],
   "source": [
    "%%timeit\n",
    "import numpy as np\n",
    "\n",
    "co2_data = np.array([\n",
    "    (2000, 369.55), (2001, 371.14), (2002, 373.28), \n",
    "    (2003, 375.80), (2004, 377.52), (2005, 379.80), \n",
    "    (2006, 381.90), (2007, 383.79), (2008, 385.60), \n",
    "    (2009, 387.43), (2010, 389.90), (2011, 391.65), \n",
    "    (2012, 393.85), (2013, 396.52), (2014, 398.65),\n",
    "    (2015, 400.83), (2016, 404.24), (2017, 406.55), \n",
    "    (2018, 408.52), (2019, 411.44), (2020, 414.24)\n",
    "])\n",
    "\n",
    "# make a new array to store indices with change in ppm >= 3\n",
    "years = []\n",
    "\n",
    "# loop from the second element onwards, calculate the difference from the previous year\n",
    "# then if the difference is >= 3, add the index to the important_index list\n",
    "for index, ppm in enumerate(co2_data[1:]):\n",
    "    each_diff = co2_data[index, 1] - co2_data[index-1, 1]\n",
    "    if each_diff >= 3:\n",
    "        years.append((co2_data[index,0], each_diff)) #appended both year and difference to list \n",
    "                                          \n",
    "#print the year and concentration difference\n",
    "for i in range(len(years)):\n",
    "    result = f\"Year: {years[i][0]}, concentration difference: {years[i][1]:.2f} ppm\""
   ]
  }
 ],
 "metadata": {
  "kernelspec": {
   "display_name": "Python 3 (ipykernel)",
   "language": "python",
   "name": "python3"
  },
  "language_info": {
   "codemirror_mode": {
    "name": "ipython",
    "version": 3
   },
   "file_extension": ".py",
   "mimetype": "text/x-python",
   "name": "python",
   "nbconvert_exporter": "python",
   "pygments_lexer": "ipython3",
   "version": "3.12.3"
  },
  "toc": {
   "base_numbering": 1,
   "nav_menu": {},
   "number_sections": true,
   "sideBar": true,
   "skip_h1_title": false,
   "title_cell": "Table of Contents",
   "title_sidebar": "Contents",
   "toc_cell": false,
   "toc_position": {},
   "toc_section_display": true,
   "toc_window_display": false
  },
  "vscode": {
   "interpreter": {
    "hash": "31f2aee4e71d21fbe5cf8b01ff0e069b9275f58929596ceb00d14d90e3e16cd6"
   }
  }
 },
 "nbformat": 4,
 "nbformat_minor": 5
}
