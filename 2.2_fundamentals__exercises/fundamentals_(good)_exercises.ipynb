{
 "cells": [
  {
   "attachments": {},
   "cell_type": "markdown",
   "id": "123456",
   "metadata": {},
   "source": [
    "<div style=\"text-align:left;font-size:2em\"><span style=\"font-weight:bolder;font-size:1.25em\">SP2273 | Learning Portfolio</span><br><br><span style=\"font-weight:bold;color:darkred\">Fundamentals (Good) Exercises</span></div>"
   ]
  },
  {
   "cell_type": "markdown",
   "id": "5c9006a6-c8bc-4a52-a90f-50113012c156",
   "metadata": {},
   "source": [
    "# Exercise 1"
   ]
  },
  {
   "cell_type": "markdown",
   "id": "6c884231-f98f-46a3-832d-95a0f09c15ef",
   "metadata": {},
   "source": [
    "## Task 1"
   ]
  },
  {
   "cell_type": "code",
   "execution_count": 5,
   "id": "df4eaefb-b728-4490-8fe5-1ec2f1bc7383",
   "metadata": {},
   "outputs": [
    {
     "name": "stdin",
     "output_type": "stream",
     "text": [
      "Hi! What's your name? Calvin\n"
     ]
    },
    {
     "name": "stdout",
     "output_type": "stream",
     "text": [
      "How you doin Calvin!\n"
     ]
    }
   ],
   "source": [
    "user_name = input(\"Hi! What's your name?\")\n",
    "print(f\"How you doin {user_name}!\")"
   ]
  },
  {
   "cell_type": "markdown",
   "id": "e82d3643-6beb-4be5-bb79-c0f7f39c26ec",
   "metadata": {},
   "source": [
    "## Task 2"
   ]
  },
  {
   "cell_type": "code",
   "execution_count": 7,
   "id": "4109e181-51e9-4814-94a4-9c98ee04037b",
   "metadata": {},
   "outputs": [
    {
     "name": "stdin",
     "output_type": "stream",
     "text": [
      "Hi! What's your name? Calvin\n",
      "How about your age? 18\n"
     ]
    },
    {
     "name": "stdout",
     "output_type": "stream",
     "text": [
      "My name is Calvin and I am 18 years old.\n"
     ]
    }
   ],
   "source": [
    "user_name = input(\"Hi! What's your name?\")\n",
    "user_age = input(\"How about your age?\")\n",
    "print(f\"My name is {user_name} and I am {user_age} years old.\")"
   ]
  },
  {
   "cell_type": "markdown",
   "id": "445595dd-5bf5-4425-b836-6b79c1c4bebf",
   "metadata": {},
   "source": [
    "## Task 3"
   ]
  },
  {
   "cell_type": "code",
   "execution_count": 14,
   "id": "b916a985-0bdf-4286-9fb0-064f6b3194dd",
   "metadata": {},
   "outputs": [
    {
     "name": "stdout",
     "output_type": "stream",
     "text": [
      "The value of pi to 2 decimal places is: 3.14\n",
      "The value of pi to 3 decimal places is: 3.142\n",
      "The value of pi to 4 decimal places is: 3.1416\n"
     ]
    }
   ],
   "source": [
    "pi = 3.141592653589793\n",
    "for i in range(2,5):\n",
    "    print(f\"The value of pi to {i} decimal places is: {pi:.{i}f}\")"
   ]
  },
  {
   "cell_type": "markdown",
   "id": "0f371d1d-71e4-416d-9b41-8601203c6b7f",
   "metadata": {},
   "source": [
    "## Task 4"
   ]
  },
  {
   "cell_type": "code",
   "execution_count": 10,
   "id": "cd22ff17-9f68-442d-a432-b22fa7b88bc9",
   "metadata": {},
   "outputs": [
    {
     "name": "stdout",
     "output_type": "stream",
     "text": [
      "Apple      $ 0.99\n",
      "Banana     $ 0.59\n",
      "Orange     $ 1.29\n"
     ]
    }
   ],
   "source": [
    "fruit_list = {\"Apple\": 0.99,\n",
    "              \"Banana\": 0.59,\n",
    "              \"Orange\": 1.29\n",
    "             }\n",
    "for key, value in fruit_list.items():\n",
    "    print(f\"{key:<10} ${value:>5}\")"
   ]
  },
  {
   "cell_type": "markdown",
   "id": "99959691-6baa-495e-a306-580cebc9a491",
   "metadata": {},
   "source": [
    "# Exercise 2"
   ]
  },
  {
   "cell_type": "code",
   "execution_count": 60,
   "id": "48077510-5b75-4f1f-b659-7d7cf10a2df9",
   "metadata": {},
   "outputs": [
    {
     "name": "stdin",
     "output_type": "stream",
     "text": [
      "Enter the student's score: 85\n"
     ]
    },
    {
     "name": "stdout",
     "output_type": "stream",
     "text": [
      "The student's letter grade is: A\n"
     ]
    }
   ],
   "source": [
    "score = input(\"Enter the student's score:\") # How to ensure that the input is an integer?\n",
    "if 70 <= int(score) <= 100:\n",
    "    print(\"The student's letter grade is: A\")\n",
    "elif 50 <= int(score) <= 69:\n",
    "    print(\"The student's letter grade is: B\")\n",
    "elif 35 <= int(score) <= 49:\n",
    "    print(\"The student's letter grade is: C\")\n",
    "elif 0 <= int(score) <= 34:\n",
    "    print(\"The student's letter grade is: Fail\")\n",
    "else:\n",
    "    print(\"Please input an integer from 0 to 100 (inclusive)\")"
   ]
  },
  {
   "cell_type": "markdown",
   "id": "2b0fd5a5-df64-4aa0-b4e8-3fba5bd1c0bb",
   "metadata": {},
   "source": [
    "# Exercise 3"
   ]
  },
  {
   "cell_type": "code",
   "execution_count": 7,
   "id": "2c18e4aa-3803-45a2-a90d-2ecb71863abe",
   "metadata": {},
   "outputs": [
    {
     "name": "stdout",
     "output_type": "stream",
     "text": [
      "120\n",
      "Invalid input\n"
     ]
    }
   ],
   "source": [
    "def factorial(n):\n",
    "    if n < 0:\n",
    "        return \"Invalid input\"\n",
    "    elif n == 0:\n",
    "        return 1\n",
    "    else:\n",
    "        result = 1\n",
    "        for number in range(1, n+1):\n",
    "            result *= number\n",
    "        return result\n",
    "\n",
    "print(factorial(5))\n",
    "print(factorial(-1))"
   ]
  }
 ],
 "metadata": {
  "kernelspec": {
   "display_name": "Python 3 (ipykernel)",
   "language": "python",
   "name": "python3"
  },
  "language_info": {
   "codemirror_mode": {
    "name": "ipython",
    "version": 3
   },
   "file_extension": ".py",
   "mimetype": "text/x-python",
   "name": "python",
   "nbconvert_exporter": "python",
   "pygments_lexer": "ipython3",
   "version": "3.12.3"
  },
  "toc": {
   "base_numbering": 1,
   "nav_menu": {},
   "number_sections": true,
   "sideBar": true,
   "skip_h1_title": false,
   "title_cell": "Table of Contents",
   "title_sidebar": "Contents",
   "toc_cell": false,
   "toc_position": {},
   "toc_section_display": true,
   "toc_window_display": false
  },
  "vscode": {
   "interpreter": {
    "hash": "31f2aee4e71d21fbe5cf8b01ff0e069b9275f58929596ceb00d14d90e3e16cd6"
   }
  }
 },
 "nbformat": 4,
 "nbformat_minor": 5
}
