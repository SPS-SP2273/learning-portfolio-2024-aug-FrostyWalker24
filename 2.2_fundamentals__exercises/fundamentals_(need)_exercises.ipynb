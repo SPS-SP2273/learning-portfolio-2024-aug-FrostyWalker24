{
 "cells": [
  {
   "attachments": {},
   "cell_type": "markdown",
   "id": "123456",
   "metadata": {},
   "source": [
    "<div style=\"text-align:left;font-size:2em\"><span style=\"font-weight:bolder;font-size:1.25em\">SP2273 | Learning Portfolio</span><br><br><span style=\"font-weight:bold;color:darkred\">Fundamentals (Need) Exercises</span></div>"
   ]
  },
  {
   "cell_type": "markdown",
   "id": "ab06e295-4dca-4fff-8a1e-23cde5005eba",
   "metadata": {},
   "source": [
    "# Exercise 1"
   ]
  },
  {
   "cell_type": "markdown",
   "id": "8b56b62e-d58a-4434-bd9a-b23b817916b1",
   "metadata": {},
   "source": [
    "1. Packages <br>\n",
    "1. Indentations instead of parentheses <br>\n",
    "1. Functions and custom functions <br>\n",
    "1. Has comments <br>\n",
    "1. Case sensitive <br>\n",
    "1. *Python is interpreted*<br>"
   ]
  },
  {
   "cell_type": "markdown",
   "id": "a6a19460-75f0-4935-a8c5-7329768fde4b",
   "metadata": {},
   "source": [
    "# Exercise 2"
   ]
  },
  {
   "cell_type": "code",
   "execution_count": 13,
   "id": "1330fe3a-56d6-45f2-9b56-f4e7f1bf3b89",
   "metadata": {},
   "outputs": [
    {
     "name": "stdout",
     "output_type": "stream",
     "text": [
      "3, 4, 5\n"
     ]
    }
   ],
   "source": [
    "import numpy as np\n",
    "\n",
    "x,y = 3,4\n",
    "z = int(np.sqrt(x**2 + y**2))\n",
    "print(f\"{x}, {y}, {z}\")"
   ]
  },
  {
   "cell_type": "markdown",
   "id": "0839d291-b3dd-4f7c-bb2f-dd08870ccd4f",
   "metadata": {},
   "source": [
    "# Exercise 3"
   ]
  },
  {
   "cell_type": "markdown",
   "id": "4fb9ac00-9e0e-49ab-88ab-b0210681f06b",
   "metadata": {},
   "source": [
    "| **#** | **Term**     | **Description**                                                        |\n",
    "|:-------:|:--------------|:------------------------------------------------------------------------|\n",
    "| 1     | Function     | Something that does something                                          |\n",
    "| 2     | Arguments    | Parameters that tells how a function should work                       |\n",
    "| 3     | Comments     | Uninterpreted lines that are used to annotate code                     |\n",
    "| 4     | Indentations | To indicate hierarchy of code (whether it is nested in something else) |\n",
    "| 5     | Packages     | Extra content to expand Python's functionality                         |\n",
    "| 6     | .            | Indicating ownership of a function                                     |\n",
    "| 7     | :            | Indicating the start of an 'if'/'for'/'while'/etc functions            |\n",
    "| 8     | []           | Indicating one-dimensional lists                                       |\n",
    "| 9     | [[],[]]      | Indicating two-dimensional lists                                       |\n",
    "| 10    | {}           | Indicating dictionaries                                                |"
   ]
  },
  {
   "cell_type": "markdown",
   "id": "f4bad8c9-42b8-4d16-9bdd-05d9c03f931c",
   "metadata": {},
   "source": [
    "# Exercise 4"
   ]
  },
  {
   "cell_type": "code",
   "execution_count": 10,
   "id": "89fee67f-82c8-446d-aab3-2f334f40804a",
   "metadata": {},
   "outputs": [
    {
     "data": {
      "text/plain": [
       "1"
      ]
     },
     "execution_count": 10,
     "metadata": {},
     "output_type": "execute_result"
    }
   ],
   "source": [
    "5/2    # Normal division, can return floats\n",
    "5//2   # Floor division (nearest integer below the result of the normal division), only returns integers\n",
    "5%2    # Modulo (returns the remainder of the division, always an integer)"
   ]
  }
 ],
 "metadata": {
  "kernelspec": {
   "display_name": "Python 3 (ipykernel)",
   "language": "python",
   "name": "python3"
  },
  "language_info": {
   "codemirror_mode": {
    "name": "ipython",
    "version": 3
   },
   "file_extension": ".py",
   "mimetype": "text/x-python",
   "name": "python",
   "nbconvert_exporter": "python",
   "pygments_lexer": "ipython3",
   "version": "3.12.3"
  },
  "toc": {
   "base_numbering": 1,
   "nav_menu": {},
   "number_sections": true,
   "sideBar": true,
   "skip_h1_title": false,
   "title_cell": "Table of Contents",
   "title_sidebar": "Contents",
   "toc_cell": false,
   "toc_position": {},
   "toc_section_display": true,
   "toc_window_display": false
  },
  "vscode": {
   "interpreter": {
    "hash": "31f2aee4e71d21fbe5cf8b01ff0e069b9275f58929596ceb00d14d90e3e16cd6"
   }
  }
 },
 "nbformat": 4,
 "nbformat_minor": 5
}
