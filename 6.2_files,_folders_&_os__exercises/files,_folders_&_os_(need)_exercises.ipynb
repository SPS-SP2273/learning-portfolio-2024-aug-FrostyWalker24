{
 "cells": [
  {
   "attachments": {},
   "cell_type": "markdown",
   "id": "123456",
   "metadata": {},
   "source": [
    "<div style=\"text-align:left;font-size:2em\"><span style=\"font-weight:bolder;font-size:1.25em\">SP2273 | Learning Portfolio</span><br><br><span style=\"font-weight:bold;color:darkred\">Files, Folders & OS (Need) Exercises</span></div>"
   ]
  },
  {
   "cell_type": "markdown",
   "id": "78b01497-bafa-4415-ac87-f38f43f0ee04",
   "metadata": {},
   "source": [
    "# Task 1"
   ]
  },
  {
   "cell_type": "code",
   "execution_count": 2,
   "id": "80e85ce7-cf2e-4997-95e8-910d6f0b383f",
   "metadata": {},
   "outputs": [],
   "source": [
    "month_dict = {\n",
    "    'jan': '01', 'feb': '02', 'mar': '03',\n",
    "    'apr': '04', 'may': '05', 'jun': '06',\n",
    "    'jul': '07', 'aug': '08', 'sep': '09',\n",
    "    'oct': '10', 'nov': '11', 'dec': '12'\n",
    "}\n",
    "\n",
    "old_name = 'oct-08_singapore.txt'\n",
    "\n",
    "# isolate month from old_name \n",
    "month = old_name.split('-')[0]\n",
    "# replace month with month number\n",
    "new_name = old_name.replace(month, month_dict[month])\n",
    "# change '_' to '-'\n",
    "new_format = new_name.replace('_', '-')"
   ]
  },
  {
   "cell_type": "markdown",
   "id": "e79cb94f-30a4-4056-a647-1c4588927330",
   "metadata": {},
   "source": [
    "# Task 2"
   ]
  },
  {
   "cell_type": "code",
   "execution_count": 3,
   "id": "b1c10c08-efc4-42b9-b6de-50c3a3c5be4d",
   "metadata": {},
   "outputs": [],
   "source": [
    "month_dict = {\n",
    "        'jan': '01', 'feb': '02', 'mar': '03',\n",
    "        'apr': '04', 'may': '05', 'jun': '06',\n",
    "        'jul': '07', 'aug': '08', 'sep': '09',\n",
    "        'oct': '10', 'nov': '11', 'dec': '12'\n",
    "    }\n",
    "\n",
    "def rename_my_file(old_file_name):\n",
    "    '''\n",
    "    Converts old_file_name (string, in the format of 'month-date_city.txt') into new_format (string, in the format of 'mm-dd-city.txt')\n",
    "    '''\n",
    "    # isolate month from old_name \n",
    "    month = old_file_name.split('-')[0]\n",
    "    # replace month with month number\n",
    "    new_name = old_file_name.replace(month, month_dict[month])\n",
    "    # change '_' to '-'\n",
    "    new_format = new_name.replace('_', '-')\n",
    "    \n",
    "    return new_format"
   ]
  },
  {
   "cell_type": "markdown",
   "id": "bb0ca43d-302f-48d1-b370-815b353b5037",
   "metadata": {},
   "source": [
    "# Task 3"
   ]
  },
  {
   "cell_type": "code",
   "execution_count": 4,
   "id": "d9f5d7eb-93da-4a01-b6f5-ca5383eaa62b",
   "metadata": {},
   "outputs": [
    {
     "name": "stdout",
     "output_type": "stream",
     "text": [
      "oct-08_singapore.txt ----> 10-08-singapore.txt\n",
      "jul-10_cairo.txt ----> 07-10-cairo.txt\n",
      "may-15_dhaka.txt ----> 05-15-dhaka.txt\n",
      "may-13_cairo.txt ----> 05-13-cairo.txt\n",
      "oct-21_cairo.txt ----> 10-21-cairo.txt\n",
      "jan-10_singapore.txt ----> 01-10-singapore.txt\n",
      "jun-20_tokyo.txt ----> 06-20-tokyo.txt\n",
      "aug-06_jakarta.txt ----> 08-06-jakarta.txt\n",
      "dec-21_karachi.txt ----> 12-21-karachi.txt\n",
      "jan-01_tokyo.txt ----> 01-01-tokyo.txt\n"
     ]
    }
   ],
   "source": [
    "old_names = [\n",
    "    'oct-08_singapore.txt', 'jul-10_cairo.txt', 'may-15_dhaka.txt',\n",
    "    'may-13_cairo.txt', 'oct-21_cairo.txt', 'jan-10_singapore.txt',\n",
    "    'jun-20_tokyo.txt', 'aug-06_jakarta.txt', 'dec-21_karachi.txt',\n",
    "    'jan-01_tokyo.txt'\n",
    "]\n",
    "new_names = []\n",
    "\n",
    "month_dict = {\n",
    "        'jan': '01', 'feb': '02', 'mar': '03',\n",
    "        'apr': '04', 'may': '05', 'jun': '06',\n",
    "        'jul': '07', 'aug': '08', 'sep': '09',\n",
    "        'oct': '10', 'nov': '11', 'dec': '12'\n",
    "    }\n",
    "\n",
    "def rename_my_file(old_file_name):\n",
    "    '''\n",
    "    Converts old_file_name (string, in the format of 'month-date_city.txt') into new_format (string, in the format of 'mm-dd-city.txt')\n",
    "    '''\n",
    "    # isolate month from old_name \n",
    "    month = old_file_name.split('-')[0]\n",
    "    # replace month with month number\n",
    "    new_name = old_file_name.replace(month, month_dict[month])\n",
    "    # change '_' to '-'\n",
    "    new_format = new_name.replace('_', '-')\n",
    "    \n",
    "    return new_format\n",
    "for old_name in old_names:\n",
    "    new_name = rename_my_file(old_name)\n",
    "    new_names.append(new_name)\n",
    "    print(f'{old_name} ----> {new_name}')"
   ]
  },
  {
   "cell_type": "markdown",
   "id": "a81fca7e-8bf6-47b0-bc63-d1d3935be3b8",
   "metadata": {},
   "source": [
    "# Task 4"
   ]
  },
  {
   "cell_type": "code",
   "execution_count": 25,
   "id": "028da24e-eed7-4c92-8f10-79156a3d1418",
   "metadata": {},
   "outputs": [],
   "source": [
    "import glob, os\n",
    "\n",
    "month_dict = {\n",
    "        'jan': '01', 'feb': '02', 'mar': '03',\n",
    "        'apr': '04', 'may': '05', 'jun': '06',\n",
    "        'jul': '07', 'aug': '08', 'sep': '09',\n",
    "        'oct': '10', 'nov': '11', 'dec': '12'\n",
    "    }\n",
    "\n",
    "# modified to handle existing new name formats\n",
    "def rename_my_file2(old_file_name):\n",
    "    '''\n",
    "    Converts old_file_name (string, in the format of 'month-date_city.txt') into new_format (string, in the format of 'mm-dd-city.txt')\n",
    "    Can handle already existing files by skipping them.\n",
    "    '''\n",
    "    try:\n",
    "        # isolate month from old_name \n",
    "        month = old_file_name.split('-')[0]\n",
    "        # replace month with month number\n",
    "        new_name = old_file_name.replace(month, month_dict[month])\n",
    "        # change '_' to '-'\n",
    "        new_format = new_name.replace('_', '-')\n",
    "        # check if new_format already exists\n",
    "        old_path = os.path.join('os-collaboration-exercise-data', old_file_name)\n",
    "        new_path = os.path.join('os-collaboration-exercise-data', new_format)\n",
    "        return os.rename(old_path, new_path)\n",
    "    except:\n",
    "        return old_file_name    \n",
    "    \n",
    "old_name_paths = glob.glob(os.path.join('os-collaboration-exercise-data', '*.txt'))\n",
    "old_names = [os.path.split(old_name)[1] for old_name in old_name_paths]\n",
    "\n",
    "for old_name in old_names:\n",
    "    rename_my_file2(old_name)"
   ]
  },
  {
   "cell_type": "markdown",
   "id": "c2935d57-ce3c-48e4-ac64-781f28651784",
   "metadata": {},
   "source": [
    "# Task 5"
   ]
  },
  {
   "cell_type": "code",
   "execution_count": 8,
   "id": "dbe3a38e-d369-4dea-bdb5-da38ade61b71",
   "metadata": {},
   "outputs": [],
   "source": [
    "import os\n",
    "\n",
    "cities = ['Cairo', 'Dhaka', 'Jakarta', 'Karachi', 'Manila',\n",
    "    'Melbourne', 'Osaka', 'Shanghai', 'Singapore', 'Tokyo']\n",
    "\n",
    "for city in cities:\n",
    "    path = os.path.join('os-collaboration-exercise-data', city)\n",
    "    if os.path.exists(path): # if the folder already exists, skip making the folder\n",
    "        continue\n",
    "    os.mkdir(path)"
   ]
  },
  {
   "cell_type": "markdown",
   "id": "ea2711a1-10c7-4e0f-928a-a9634f7a7736",
   "metadata": {},
   "source": [
    "# Task 6"
   ]
  },
  {
   "cell_type": "code",
   "execution_count": 2,
   "id": "5a4d8e89-e972-4ea9-bd63-498fd92cb3a1",
   "metadata": {},
   "outputs": [],
   "source": [
    "import glob, shutil, os\n",
    "\n",
    "# grabs all files from Cairo \n",
    "cairo_files_path = glob.glob(os.path.join('os-collaboration-exercise-data', '*cairo.txt'))\n",
    "cairo_files = [os.path.split(cairo_file)[1] for cairo_file in cairo_files_path]\n",
    "\n",
    "for cairo_file in cairo_files:\n",
    "    from_path = os.path.join('os-collaboration-exercise-data', cairo_file)\n",
    "    to_path = os.path.join('os-collaboration-exercise-data', 'Cairo')\n",
    "    check_existence = os.path.join('os-collaboration-exercise-data', 'Cairo', cairo_file)\n",
    "    if os.path.exists(check_existence):\n",
    "        continue\n",
    "    shutil.copy(from_path, to_path)"
   ]
  },
  {
   "cell_type": "markdown",
   "id": "5cdd76d8-e97a-4ade-831c-cd2edda2b70f",
   "metadata": {},
   "source": [
    "# Task 7"
   ]
  },
  {
   "cell_type": "code",
   "execution_count": 5,
   "id": "9708556b-a365-45fe-aed8-bcceb9835aa7",
   "metadata": {},
   "outputs": [
    {
     "name": "stdout",
     "output_type": "stream",
     "text": [
      "Finished transferring 0 files.\n"
     ]
    }
   ],
   "source": [
    "import glob, shutil, os\n",
    "\n",
    "cities = ['Cairo', 'Dhaka', 'Jakarta', 'Karachi', 'Manila',\n",
    "    'Melbourne', 'Osaka', 'Shanghai', 'Singapore', 'Tokyo']\n",
    "\n",
    "file_transfer_count = 0\n",
    "\n",
    "for city in cities: # loops over all the cities and picks all files from the same city\n",
    "    files_path = glob.glob(os.path.join('os-collaboration-exercise-data', f'*{city.lower()}.txt')) # make sure the city name is lowercase\n",
    "    files = [os.path.split(file)[1] for file in files_path]\n",
    "    for file in files: # copy all files with the city's name\n",
    "        from_path = os.path.join('os-collaboration-exercise-data', file)\n",
    "        to_path = os.path.join('os-collaboration-exercise-data', city)\n",
    "        check_existence = os.path.join('os-collaboration-exercise-data', city, file)\n",
    "        if os.path.exists(check_existence): # skip over existing files\n",
    "            continue\n",
    "        shutil.move(from_path, to_path) # change to move instead of copy\n",
    "        file_transfer_count += 1 # counter to monitor how many files have been moved\n",
    "        if file_transfer_count % 100 == 0: # prints every 100 files moved\n",
    "            print(f'Transferred {file_transfer_count} files.')\n",
    "\n",
    "print(f'Finished transferring {file_transfer_count} files.')"
   ]
  },
  {
   "cell_type": "markdown",
   "id": "5f7c84f6-5263-490e-96f6-6cbfb087af79",
   "metadata": {},
   "source": [
    "## Delete useless files (not in the exercise)"
   ]
  },
  {
   "cell_type": "code",
   "execution_count": 30,
   "id": "930bcdab-2b15-44df-b351-7906fd44a7e3",
   "metadata": {},
   "outputs": [],
   "source": [
    "import glob, os\n",
    "\n",
    "useless_extensions = ['.pdf', '.jpg', '.png']\n",
    "\n",
    "for useless_extension in useless_extensions:\n",
    "    useless_files_path = glob.glob(os.path.join('os-collaboration-exercise-data', '*{useless_extension}'))\n",
    "    for useless_file in useless_files_path:\n",
    "        os.remove(useless_file)"
   ]
  }
 ],
 "metadata": {
  "kernelspec": {
   "display_name": "Python 3 (ipykernel)",
   "language": "python",
   "name": "python3"
  },
  "language_info": {
   "codemirror_mode": {
    "name": "ipython",
    "version": 3
   },
   "file_extension": ".py",
   "mimetype": "text/x-python",
   "name": "python",
   "nbconvert_exporter": "python",
   "pygments_lexer": "ipython3",
   "version": "3.12.3"
  },
  "toc": {
   "base_numbering": 1,
   "nav_menu": {},
   "number_sections": true,
   "sideBar": true,
   "skip_h1_title": false,
   "title_cell": "Table of Contents",
   "title_sidebar": "Contents",
   "toc_cell": false,
   "toc_position": {},
   "toc_section_display": true,
   "toc_window_display": false
  },
  "vscode": {
   "interpreter": {
    "hash": "31f2aee4e71d21fbe5cf8b01ff0e069b9275f58929596ceb00d14d90e3e16cd6"
   }
  }
 },
 "nbformat": 4,
 "nbformat_minor": 5
}
